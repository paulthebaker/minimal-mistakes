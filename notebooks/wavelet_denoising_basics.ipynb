{
 "cells": [
  {
   "cell_type": "markdown",
   "metadata": {},
   "source": [
    "# Wavelet Denoising: a basic demonstration\n",
    "\n",
    "This is a conceptual demonstration of the `FastBurst` algorithm to find gravitational wave (GW) bursts in LIGO data.\n",
    "This analysis uses no *a priori* knowledge of GW waveforms.\n",
    "\n",
    "There are several GW burst searches performed on real LIGO data including Coherent Wave Burst (`cWB`), `BayesWave`, and `oLIB`.\n",
    "This analysis is simple relative to those three, making it a nice introduction to GW burst searching.\n",
    "Do to its simplicity, the `FastBurst` algorithm is computationally cheap.\n",
    "It is meant to act as a *first pass* analysis to find times of interest to be analysed by the much more sophisticated and computationally expensive `BayesWave` pipeline.\n",
    "The production level `FastBurst` code is written in `C`, and is being developed for large scale runs on LIGO data.\n",
    "\n",
    "This demonstration will walk you through the basics of wavelet denoising, using a simulated signal.\n",
    "A second notebook, `coherent_wavelet_denoising.ipynb`, will walk you through the process of **coherent wavelet denoising**, which is used in the `FastBurst` algorithm.\n",
    "Finally, a third notebook, `FastBurst_for_LOSC.ipynb`, calls functions from the `fastburst` module to perform the coherent wavelet denoising analysis on real data from the LIGO Open Science Center (LOSC).\n",
    "\n",
    "## Prerequisites\n",
    "\n",
    " * This notebook has been tested in `Python2.7` and `Python3.5`.\n",
    " * It depends on `numpy` and `matplotlib`.\n",
    " * It uses the provided `wavelet` module for wavelet transforms (which depends on `scipy`)"
   ]
  },
  {
   "cell_type": "code",
   "execution_count": null,
   "metadata": {
    "collapsed": true
   },
   "outputs": [],
   "source": [
    "from __future__ import division, print_function, unicode_literals, absolute_import\n",
    "\n",
    "import numpy as np\n",
    "import matplotlib.pyplot as plt\n",
    "\n",
    "import wavelet as w\n",
    "\n",
    "%matplotlib inline"
   ]
  },
  {
   "cell_type": "markdown",
   "metadata": {},
   "source": [
    "## Generate Data\n",
    "\n",
    "Wavelet denoising can isolate signals that are compact in both their time and frequency content.\n",
    "So our test signal must have these properties.\n",
    "\n",
    "We will generate 4 seconds of simulated data sampled at 128 Hz.\n",
    "The data will have a base of white noise with unit variance.\n",
    "To this noise we will inject a gaussian-windowed sinusoidal signal that spans about 1/4 sec of the data.\n",
    "This signal is compact in time (short duration) and in frequency (single dominate oscillation frequency).\n",
    "\n",
    "$$ h(t) = A \\exp\\left(\\frac{-\\left(t-t_0\\right)^2}{\\tau^2}\\right)\\, \\sin\\left(2\\pi\\,f\\,(t-t_0) + \\phi_0\\right) $$\n",
    "\n",
    "LIGO's detectors also contain non-Gaussian noise artifacts, that look a lot like GW signals.\n",
    "We will also generate a non-Gaussian noise *glitch*, that is a second gaussian-windowed sinusoid with a different frequency that spans a different (but overlapping) section of the data."
   ]
  },
  {
   "cell_type": "code",
   "execution_count": null,
   "metadata": {
    "collapsed": false
   },
   "outputs": [],
   "source": [
    "def sine_gaussian(ts, f, amp=1, tau=1, t0=0, phi=0):\n",
    "    \"\"\"a gaussian-windowed sinusoid\n",
    "    h(t) = exp(-(t-t0)^2/tau^2) sin(2*pi*f*(t-t0) + phi)\n",
    "    \"\"\"\n",
    "    win = np.exp(-((ts-t0)/tau)**2)\n",
    "    sine = np.sin(2*np.pi*f*(ts-t0) + phi)\n",
    "    return amp*win*sine"
   ]
  },
  {
   "cell_type": "code",
   "execution_count": null,
   "metadata": {
    "collapsed": false
   },
   "outputs": [],
   "source": [
    "Tobs = 4\n",
    "dT = 1/128\n",
    "N = int(Tobs/dT)\n",
    "ts = np.arange(N, dtype=np.float64)*dT\n",
    "fmax = 1/(2*dT)  # Nyquist frequency (64 Hz)\n",
    "fmin = 2  # Hz, minimum frequency for plotting.  We could go down to 1/Tobs, but this is fine"
   ]
  },
  {
   "cell_type": "code",
   "execution_count": null,
   "metadata": {
    "collapsed": false
   },
   "outputs": [],
   "source": [
    "# SG 1 -- The Signal\n",
    "t1 = 3.15  # sec (into data)\n",
    "f1 = 12 # Hz\n",
    "tau1 = 1/8 # sec (damp time)\n",
    "A1 = 2.5\n",
    "inj = sine_gaussian(ts, f1, A1, tau1, t1)\n",
    "\n",
    "# SG 2 -- A Glitch\n",
    "t2 = 3.0  # sec (into data)\n",
    "f2 = 30  # Hz\n",
    "tau2 = 0.08 # sec (damp time)\n",
    "A2 = 3.5\n",
    "glitch = sine_gaussian(ts, f2, A2, tau2, t2)\n",
    "\n",
    "# Gaussian Noise\n",
    "np.random.seed(3333)  # use a defined seed for consistency across runs\n",
    "noise = np.random.normal(size=N)\n",
    "\n",
    "# The Total Data\n",
    "data = noise + inj + glitch"
   ]
  },
  {
   "cell_type": "markdown",
   "metadata": {},
   "source": [
    "Wavelet transforms are unstable for data with non-zero mean.\n",
    "Lets explicitly set the mean of our data to zero."
   ]
  },
  {
   "cell_type": "code",
   "execution_count": null,
   "metadata": {
    "collapsed": false
   },
   "outputs": [],
   "source": [
    "data -= data.mean()"
   ]
  },
  {
   "cell_type": "markdown",
   "metadata": {},
   "source": [
    "Here we plot the simulated data and the injected signal in full and zoomed."
   ]
  },
  {
   "cell_type": "code",
   "execution_count": null,
   "metadata": {
    "collapsed": false
   },
   "outputs": [],
   "source": [
    "fig = plt.figure(figsize=(16,8))\n",
    "\n",
    "ax1 = fig.add_subplot(221)\n",
    "ax1.plot(ts, data, color='C0', label='simulated data')\n",
    "ax1.set_ylabel(\"Normalized Amplitude\")\n",
    "ax1.set_xlabel(\"time (sec)\")\n",
    "ax1.legend(loc='lower left')\n",
    "\n",
    "ax2 = fig.add_subplot(222)\n",
    "ax2.plot(ts, data, color='C0')\n",
    "ax2.set_xlim([2.85, 3.35])\n",
    "ax2.set_xlabel(\"time (sec)\")\n",
    "\n",
    "ax3 = fig.add_subplot(223)\n",
    "ax3.plot(ts, inj, color='C1', label='injected signal')\n",
    "ax3.plot(ts, glitch, color='C5', label='injected glitch')\n",
    "ax3.set_ylabel(\"Normalized Amplitude\")\n",
    "ax3.set_xlabel(\"time (sec)\")\n",
    "ax3.legend(loc='lower left')\n",
    "\n",
    "ax4 = fig.add_subplot(224)\n",
    "ax4.plot(ts, inj, color='C1')\n",
    "ax4.plot(ts, glitch, color='C5')\n",
    "ax4.set_xlim([2.85, 3.35])\n",
    "ax4.set_xlabel(\"time (sec)\")"
   ]
  },
  {
   "cell_type": "markdown",
   "metadata": {},
   "source": [
    "Note how the signal and glitch are individually compact in time, but overlapping."
   ]
  },
  {
   "cell_type": "markdown",
   "metadata": {},
   "source": [
    "## Single Detector Denoising\n",
    "\n",
    "As the name indicates, we will be doing our denoising in the wavelet domain.\n",
    "\n",
    "### Wavelet transform\n",
    "\n",
    "First we need to wavelet transform the data.\n",
    "There are a number of choices to make in the wavelet transform.\n",
    "The provided `wavelet` module leaves two to you the wavelet waveform and the subscale spacing.\n",
    "The subscale spacing sets the frequency resolution of the wavelet transform.\n",
    "It determines the number of frequency scales in each frequency *octave*.\n",
    "If the subscale spacing is `dj = 1/4`, then there will be 4 frequency scales between each factor of 2 in frequency.\n",
    "\n",
    "We will use the **Morlet** wavelets and set the subscale spacing to `dj = 1/16`.\n",
    "\n",
    "First we initialize the `WaveletBasis` object that sets up the wavelet transform plan for out data specifications.\n",
    "We can read out the frequencies in Hz that correspond to the transform scales.\n",
    "Finally, we perform the continuous wavelet transform and compute the power spectrum."
   ]
  },
  {
   "cell_type": "code",
   "execution_count": null,
   "metadata": {
    "collapsed": false
   },
   "outputs": [],
   "source": [
    "dJ = 1/16\n",
    "WB = w.WaveletBasis(wavelet=w.MorletWave(), N=N, dt=dT, dj=dJ)\n",
    "fs = WB.freqs\n",
    "\n",
    "wdat = WB.cwt(data)\n",
    "wpow = np.real(wdat*wdat.conj())"
   ]
  },
  {
   "cell_type": "markdown",
   "metadata": {},
   "source": [
    "We can take a look at the spectrogram."
   ]
  },
  {
   "cell_type": "code",
   "execution_count": null,
   "metadata": {
    "collapsed": false
   },
   "outputs": [],
   "source": [
    "fig = plt.figure(figsize=(6,4))\n",
    "ax = fig.add_subplot(111)\n",
    "ax.pcolormesh(ts, fs, wpow, cmap='YlOrRd')\n",
    "ax.set_xlabel(\"time (sec)\")\n",
    "ax.set_ylabel(\"freq (Hz)\")\n",
    "ax.set_ylim([fmin, fmax])\n",
    "ax.set_yscale(\"log\")"
   ]
  },
  {
   "cell_type": "markdown",
   "metadata": {},
   "source": [
    "The two big red blobs near 3.0 sec are the injected signal and glitch.\n",
    "In the wavelet domain the two sinusoids separate out into two distinct features.\n",
    "The other high power features come from the random, Gaussian noise.\n",
    "\n",
    "We will refer to a point in wavelet space defined by at time and frequency as a **pixel**.\n",
    "\n",
    "### Denoising\n",
    "\n",
    "To denoise, we simply set a threshold and zero-out any pixels that are smaller than the threshold.\n",
    "This will cut out the noise, while leaving any loud signals intact.\n",
    "\n",
    "With our unit variance, white, Gaussian noise the pixel amplitude is just to the signal-to-noise ratio (SNR) of that pixel.\n",
    "We can directly set an SNR threshold and use it to denoise the wavelet data array (and power array)."
   ]
  },
  {
   "cell_type": "code",
   "execution_count": null,
   "metadata": {
    "collapsed": true
   },
   "outputs": [],
   "source": [
    "minSNR = 2.0\n",
    "minPow = minSNR**2\n",
    "\n",
    "wdat[wpow<minPow] = 0.\n",
    "wpow[wpow<minPow] = 0."
   ]
  },
  {
   "cell_type": "markdown",
   "metadata": {},
   "source": [
    "Now we can take a look at the denoised spectogram."
   ]
  },
  {
   "cell_type": "code",
   "execution_count": null,
   "metadata": {
    "collapsed": false
   },
   "outputs": [],
   "source": [
    "fig = plt.figure(figsize=(6,4))\n",
    "ax = fig.add_subplot(111)\n",
    "ax.pcolormesh(ts, fs, wpow, cmap='YlOrRd')\n",
    "ax.set_xlabel(\"time (sec)\")\n",
    "ax.set_ylabel(\"freq (Hz)\")\n",
    "ax.set_ylim([fmin, fmax])\n",
    "ax.set_yscale(\"log\")"
   ]
  },
  {
   "cell_type": "markdown",
   "metadata": {},
   "source": [
    "First we see that the signal is preserved, but the glitch also passes the test.\n",
    "The denoising can only eliminate quiet pixels not distinguish signal from non-Gaussian noise.\n",
    "There are also some other places with high power the survive the cut.\n",
    "These arrise from the Gaussian noise. With many samples in our data we should expect the Gaussian noise to fluctuate above the 2-sigma level (i.e. pixel SNR > 2), occationally.\n",
    "\n",
    "### Reconstruction\n",
    "\n",
    "We can now take the inverse transform of the denoised data to determine the time domain reconstructed signal."
   ]
  },
  {
   "cell_type": "code",
   "execution_count": null,
   "metadata": {
    "collapsed": true
   },
   "outputs": [],
   "source": [
    "recon = WB.icwt(wdat)"
   ]
  },
  {
   "cell_type": "code",
   "execution_count": null,
   "metadata": {
    "collapsed": false
   },
   "outputs": [],
   "source": [
    "fig = plt.figure(figsize=(12,4))\n",
    "ax1 = fig.add_subplot(121)\n",
    "ax1.plot(ts, inj, label='injected signal')\n",
    "ax1.plot(ts, recon, label='reconstruction')\n",
    "ax1.set_ylabel(\"Normalized Amplitude\")\n",
    "ax1.set_xlabel(\"time (sec)\")\n",
    "ax1.legend(loc='upper left')\n",
    "\n",
    "ax2 = fig.add_subplot(122)\n",
    "ax2.plot(ts, inj, label='injected signal')\n",
    "ax2.plot(ts, recon, label='reconstruction')\n",
    "ax2.set_xlim([2.85, 3.35])\n",
    "ax2.set_xlabel(\"time (sec)\")"
   ]
  },
  {
   "cell_type": "markdown",
   "metadata": {},
   "source": [
    "Our reconstructed signal still contains the glitch and a bunch of other noise artifacts.\n",
    "It's far from perfect, but we can at least tell that there is something in the data."
   ]
  },
  {
   "cell_type": "markdown",
   "metadata": {},
   "source": [
    "## Coincident Denoising\n",
    "\n",
    "LIGO uses two detectors to detect GWs.\n",
    "We can leverage the fact that the noise in the detectors should be uncorrelated.\n",
    "If a real GW signal exists in the data, it should appear in both detectors.\n",
    "If a random noise event occurs in one detector, it is very unlikely that a similiar noise event will occur in the other detector.\n",
    "\n",
    "### Simultaneous data\n",
    "\n",
    "We will regenerate the first data set, with a signal and a glitch.\n",
    "Then we will generate a second data set that contains new, Gaussian noise (with the same statistical properties as before), the exact same signal, but no glitch.\n",
    "\n",
    "In this case the signals occur simultaneously in each detector at the exact same time.\n",
    "In reality for most GW signals there will be a small temporal offset between the arrival in different detetectors.\n",
    "We will deal with that problem in the next notebook."
   ]
  },
  {
   "cell_type": "code",
   "execution_count": null,
   "metadata": {
    "collapsed": false
   },
   "outputs": [],
   "source": [
    "np.random.seed(3333)  # use same random seed to get exact same data!\n",
    "noise1 = np.random.normal(size=N)\n",
    "glitch1 = glitch\n",
    "inj1 = inj\n",
    "data1 = noise1 + inj1 + glitch1\n",
    "data1 -= data1.mean()\n",
    "\n",
    "np.random.seed(7777)  # use different random seed for new noise realization\n",
    "noise2 = np.random.normal(size=N)\n",
    "inj2 = inj\n",
    "data2 = noise2 + inj2\n",
    "data2 -= data2.mean()"
   ]
  },
  {
   "cell_type": "markdown",
   "metadata": {},
   "source": [
    "We can wavelet transform these new data using the same `WaveletBasis` object as the first, because they have the same sampling properties `Tobs` and `dt` as the original."
   ]
  },
  {
   "cell_type": "code",
   "execution_count": null,
   "metadata": {
    "collapsed": false
   },
   "outputs": [],
   "source": [
    "wdat1 = WB.cwt(data1)\n",
    "wdat2 = WB.cwt(data2)\n",
    "\n",
    "wpow1 = np.real(wdat1*wdat1.conj())\n",
    "wpow2 = np.real(wdat2*wdat2.conj())"
   ]
  },
  {
   "cell_type": "markdown",
   "metadata": {},
   "source": [
    "We can look at the two datasets side by side."
   ]
  },
  {
   "cell_type": "code",
   "execution_count": null,
   "metadata": {
    "collapsed": false
   },
   "outputs": [],
   "source": [
    "zmax = np.max((wpow1,wpow2))\n",
    "\n",
    "fig = plt.figure(figsize=(12,4))\n",
    "\n",
    "ax1 = fig.add_subplot(121)\n",
    "ax1.pcolormesh(ts, fs, wpow1, cmap='YlOrRd', vmin=0, vmax=zmax)\n",
    "ax1.set_xlabel(\"time (sec)\")\n",
    "ax1.set_ylabel(\"freq (Hz)\")\n",
    "ax1.set_ylim([fmin, fmax])\n",
    "ax1.set_yscale(\"log\")\n",
    "\n",
    "ax2 = fig.add_subplot(122)\n",
    "ax2.pcolormesh(ts, fs, wpow2, cmap='YlOrRd', vmin=0, vmax=zmax)\n",
    "ax2.set_xlabel(\"time (sec)\")\n",
    "ax2.set_ylim([fmin, fmax])\n",
    "ax2.set_yscale(\"log\")"
   ]
  },
  {
   "cell_type": "markdown",
   "metadata": {},
   "source": [
    "Now we want to find the pixels where the power is above threshold in both detectors simultaneously."
   ]
  },
  {
   "cell_type": "code",
   "execution_count": null,
   "metadata": {
    "collapsed": false
   },
   "outputs": [],
   "source": [
    "subthresh = np.bitwise_or(wpow1<minPow, wpow2<minPow)  # if *either* is below threshold\n",
    "wdat1[subthresh] = 0.\n",
    "wpow1[subthresh] = 0.\n",
    "wdat2[subthresh] = 0.\n",
    "wpow2[subthresh] = 0."
   ]
  },
  {
   "cell_type": "code",
   "execution_count": null,
   "metadata": {
    "collapsed": false
   },
   "outputs": [],
   "source": [
    "fig = plt.figure(figsize=(12,4))\n",
    "\n",
    "ax1 = fig.add_subplot(121)\n",
    "ax1.pcolormesh(ts, fs, wpow1, cmap='YlOrRd', vmin=0, vmax=zmax)\n",
    "ax1.set_xlabel(\"time (sec)\")\n",
    "ax1.set_ylabel(\"freq (Hz)\")\n",
    "ax1.set_ylim([fmin, fmax])\n",
    "ax1.set_yscale(\"log\")\n",
    "\n",
    "ax2 = fig.add_subplot(122)\n",
    "ax2.pcolormesh(ts, fs, wpow2, cmap='YlOrRd', vmin=0, vmax=zmax)\n",
    "ax2.set_xlabel(\"time (sec)\")\n",
    "ax2.set_ylim([fmin, fmax])\n",
    "ax2.set_yscale(\"log\")"
   ]
  },
  {
   "cell_type": "markdown",
   "metadata": {},
   "source": [
    "Almost all of the noise is rejected, because the noise is uncorrelated between the detectors.\n",
    "It is very unlikely that the same pixel will have a random 2-sigma fluctuation in both data sets!\n",
    "\n",
    "The coincident denoising easily rejects the *glitch* in the first data set!\n",
    "\n",
    "Now we can inverse wavelet transform and take a look at our reconstructions."
   ]
  },
  {
   "cell_type": "code",
   "execution_count": null,
   "metadata": {
    "collapsed": true
   },
   "outputs": [],
   "source": [
    "recon1 = WB.icwt(wdat1)\n",
    "recon2 = WB.icwt(wdat2)"
   ]
  },
  {
   "cell_type": "code",
   "execution_count": null,
   "metadata": {
    "collapsed": false
   },
   "outputs": [],
   "source": [
    "fig = plt.figure(figsize=(12,4))\n",
    "ax1 = fig.add_subplot(121)\n",
    "ax1.plot(ts, inj1, color='C0', label='inj sig1')\n",
    "ax1.plot(ts, recon1, color='C1', label='recon1')\n",
    "ax1.set_xlim([2.85, 3.45])\n",
    "ax1.set_ylabel(\"Normalized Amplitude\")\n",
    "ax1.set_xlabel(\"time (sec)\")\n",
    "ax1.legend(loc='lower left')\n",
    "\n",
    "ax2 = fig.add_subplot(122)\n",
    "ax2.plot(ts, inj2, color='C6', label='inj sig2')\n",
    "ax2.plot(ts, recon1, color='C5', label='recon2')\n",
    "ax2.set_xlim([2.85, 3.45])\n",
    "ax2.set_xlabel(\"time (sec)\")\n",
    "ax2.legend(loc='lower left')"
   ]
  },
  {
   "cell_type": "markdown",
   "metadata": {},
   "source": [
    "Our reconstruction misses the very quiet tails of the signal, but that should be expected as we are setting an **SNR per pixel** threshold.\n",
    "By design we cannot detect quiet features.\n",
    "Unlike a templated search a burst analysis can never detect long, quiet signals.\n",
    "That’s okay.\n",
    "**They are not bursts**."
   ]
  }
 ],
 "metadata": {
  "anaconda-cloud": {},
  "kernelspec": {
   "display_name": "Python [conda root]",
   "language": "python",
   "name": "conda-root-py"
  },
  "language_info": {
   "codemirror_mode": {
    "name": "ipython",
    "version": 2
   },
   "file_extension": ".py",
   "mimetype": "text/x-python",
   "name": "python",
   "nbconvert_exporter": "python",
   "pygments_lexer": "ipython2",
   "version": "2.7.12"
  }
 },
 "nbformat": 4,
 "nbformat_minor": 1
}
